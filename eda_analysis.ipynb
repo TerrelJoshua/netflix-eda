{
 "cells": [
  {
   "cell_type": "code",
   "execution_count": null,
   "id": "a91b3ac9",
   "metadata": {},
   "outputs": [
    {
     "name": "stdout",
     "output_type": "stream",
     "text": [
      "The columns in the dataset: \n",
      " Index(['show_id', 'type', 'title', 'director', 'cast', 'country', 'date_added',\n",
      "       'release_year', 'rating', 'duration', 'listed_in', 'description'],\n",
      "      dtype='object')\n",
      "The number of the rows and coulmns: \n",
      " (8808, 12)\n"
     ]
    }
   ],
   "source": [
    "import pandas as pd\n",
    "\n",
    "df = pd.read_csv(\"D:\\\\Terrel_projects\\\\project_data\\\\netflix_titles.csv\")\n",
    "#data cleaning\n",
    "print(\"The columns in the dataset: \\n\",df.columns)\n",
    "print(\"The number of the rows and coulmns: \\n\",df.shape)"
   ]
  },
  {
   "cell_type": "code",
   "execution_count": 17,
   "id": "d74417de",
   "metadata": {},
   "outputs": [
    {
     "name": "stdout",
     "output_type": "stream",
     "text": [
      "<class 'pandas.core.frame.DataFrame'>\n",
      "RangeIndex: 8808 entries, 0 to 8807\n",
      "Data columns (total 12 columns):\n",
      " #   Column        Non-Null Count  Dtype \n",
      "---  ------        --------------  ----- \n",
      " 0   show_id       8808 non-null   object\n",
      " 1   type          8808 non-null   object\n",
      " 2   title         8808 non-null   object\n",
      " 3   director      6176 non-null   object\n",
      " 4   cast          7983 non-null   object\n",
      " 5   country       7977 non-null   object\n",
      " 6   date_added    8798 non-null   object\n",
      " 7   release_year  8808 non-null   int64 \n",
      " 8   rating        8804 non-null   object\n",
      " 9   duration      8805 non-null   object\n",
      " 10  listed_in     8808 non-null   object\n",
      " 11  description   8808 non-null   object\n",
      "dtypes: int64(1), object(11)\n",
      "memory usage: 825.9+ KB\n",
      "Basic information of the dataset: \n",
      " None\n"
     ]
    }
   ],
   "source": [
    "print(\"Basic information of the dataset: \\n\",df.info())"
   ]
  },
  {
   "cell_type": "code",
   "execution_count": 18,
   "id": "985e4638",
   "metadata": {},
   "outputs": [
    {
     "name": "stdout",
     "output_type": "stream",
     "text": [
      "The first 5 rows of the dataset: \n",
      "\n"
     ]
    },
    {
     "data": {
      "text/html": [
       "<div>\n",
       "<style scoped>\n",
       "    .dataframe tbody tr th:only-of-type {\n",
       "        vertical-align: middle;\n",
       "    }\n",
       "\n",
       "    .dataframe tbody tr th {\n",
       "        vertical-align: top;\n",
       "    }\n",
       "\n",
       "    .dataframe thead th {\n",
       "        text-align: right;\n",
       "    }\n",
       "</style>\n",
       "<table border=\"1\" class=\"dataframe\">\n",
       "  <thead>\n",
       "    <tr style=\"text-align: right;\">\n",
       "      <th></th>\n",
       "      <th>show_id</th>\n",
       "      <th>type</th>\n",
       "      <th>title</th>\n",
       "      <th>director</th>\n",
       "      <th>cast</th>\n",
       "      <th>country</th>\n",
       "      <th>date_added</th>\n",
       "      <th>release_year</th>\n",
       "      <th>rating</th>\n",
       "      <th>duration</th>\n",
       "      <th>listed_in</th>\n",
       "      <th>description</th>\n",
       "    </tr>\n",
       "  </thead>\n",
       "  <tbody>\n",
       "    <tr>\n",
       "      <th>0</th>\n",
       "      <td>s1</td>\n",
       "      <td>Movie</td>\n",
       "      <td>Dick Johnson Is Dead</td>\n",
       "      <td>Kirsten Johnson</td>\n",
       "      <td>NaN</td>\n",
       "      <td>United States</td>\n",
       "      <td>September 25, 2021</td>\n",
       "      <td>2020</td>\n",
       "      <td>PG-13</td>\n",
       "      <td>90 min</td>\n",
       "      <td>Documentaries</td>\n",
       "      <td>As her father nears the end of his life, filmm...</td>\n",
       "    </tr>\n",
       "    <tr>\n",
       "      <th>1</th>\n",
       "      <td>s2</td>\n",
       "      <td>TV Show</td>\n",
       "      <td>Blood &amp; Water</td>\n",
       "      <td>NaN</td>\n",
       "      <td>Ama Qamata, Khosi Ngema, Gail Mabalane, Thaban...</td>\n",
       "      <td>South Africa</td>\n",
       "      <td>September 24, 2021</td>\n",
       "      <td>2021</td>\n",
       "      <td>TV-MA</td>\n",
       "      <td>2 Seasons</td>\n",
       "      <td>International TV Shows, TV Dramas, TV Mysteries</td>\n",
       "      <td>After crossing paths at a party, a Cape Town t...</td>\n",
       "    </tr>\n",
       "    <tr>\n",
       "      <th>2</th>\n",
       "      <td>s3</td>\n",
       "      <td>TV Show</td>\n",
       "      <td>Ganglands</td>\n",
       "      <td>Julien Leclercq</td>\n",
       "      <td>Sami Bouajila, Tracy Gotoas, Samuel Jouy, Nabi...</td>\n",
       "      <td>NaN</td>\n",
       "      <td>September 24, 2021</td>\n",
       "      <td>2021</td>\n",
       "      <td>TV-MA</td>\n",
       "      <td>1 Season</td>\n",
       "      <td>Crime TV Shows, International TV Shows, TV Act...</td>\n",
       "      <td>To protect his family from a powerful drug lor...</td>\n",
       "    </tr>\n",
       "    <tr>\n",
       "      <th>3</th>\n",
       "      <td>s4</td>\n",
       "      <td>TV Show</td>\n",
       "      <td>Jailbirds New Orleans</td>\n",
       "      <td>Jailbirds New Orleans</td>\n",
       "      <td>NaN</td>\n",
       "      <td>NaN</td>\n",
       "      <td>September 24, 2021</td>\n",
       "      <td>2021</td>\n",
       "      <td>TV-MA</td>\n",
       "      <td>1 Season</td>\n",
       "      <td>Docuseries, Reality TV</td>\n",
       "      <td>Feuds, flirtations and toilet talk go down amo...</td>\n",
       "    </tr>\n",
       "    <tr>\n",
       "      <th>4</th>\n",
       "      <td>s5</td>\n",
       "      <td>TV Show</td>\n",
       "      <td>Kota Factory</td>\n",
       "      <td>Kota Factory</td>\n",
       "      <td>Mayur More, Jitendra Kumar, Ranjan Raj, Alam K...</td>\n",
       "      <td>India</td>\n",
       "      <td>September 24, 2021</td>\n",
       "      <td>2021</td>\n",
       "      <td>TV-MA</td>\n",
       "      <td>2 Seasons</td>\n",
       "      <td>International TV Shows, Romantic TV Shows, TV ...</td>\n",
       "      <td>In a city of coaching centers known to train I...</td>\n",
       "    </tr>\n",
       "  </tbody>\n",
       "</table>\n",
       "</div>"
      ],
      "text/plain": [
       "  show_id     type                  title               director  \\\n",
       "0      s1    Movie   Dick Johnson Is Dead        Kirsten Johnson   \n",
       "1      s2  TV Show          Blood & Water                    NaN   \n",
       "2      s3  TV Show              Ganglands        Julien Leclercq   \n",
       "3      s4  TV Show  Jailbirds New Orleans  Jailbirds New Orleans   \n",
       "4      s5  TV Show           Kota Factory           Kota Factory   \n",
       "\n",
       "                                                cast        country  \\\n",
       "0                                                NaN  United States   \n",
       "1  Ama Qamata, Khosi Ngema, Gail Mabalane, Thaban...   South Africa   \n",
       "2  Sami Bouajila, Tracy Gotoas, Samuel Jouy, Nabi...            NaN   \n",
       "3                                                NaN            NaN   \n",
       "4  Mayur More, Jitendra Kumar, Ranjan Raj, Alam K...          India   \n",
       "\n",
       "           date_added  release_year rating   duration  \\\n",
       "0  September 25, 2021          2020  PG-13     90 min   \n",
       "1  September 24, 2021          2021  TV-MA  2 Seasons   \n",
       "2  September 24, 2021          2021  TV-MA   1 Season   \n",
       "3  September 24, 2021          2021  TV-MA   1 Season   \n",
       "4  September 24, 2021          2021  TV-MA  2 Seasons   \n",
       "\n",
       "                                           listed_in  \\\n",
       "0                                      Documentaries   \n",
       "1    International TV Shows, TV Dramas, TV Mysteries   \n",
       "2  Crime TV Shows, International TV Shows, TV Act...   \n",
       "3                             Docuseries, Reality TV   \n",
       "4  International TV Shows, Romantic TV Shows, TV ...   \n",
       "\n",
       "                                         description  \n",
       "0  As her father nears the end of his life, filmm...  \n",
       "1  After crossing paths at a party, a Cape Town t...  \n",
       "2  To protect his family from a powerful drug lor...  \n",
       "3  Feuds, flirtations and toilet talk go down amo...  \n",
       "4  In a city of coaching centers known to train I...  "
      ]
     },
     "execution_count": 18,
     "metadata": {},
     "output_type": "execute_result"
    }
   ],
   "source": [
    "print(\"The first 5 rows of the dataset: \\n\")\n",
    "df.head()"
   ]
  },
  {
   "cell_type": "code",
   "execution_count": 19,
   "id": "94baaa62",
   "metadata": {},
   "outputs": [
    {
     "name": "stdout",
     "output_type": "stream",
     "text": [
      "Missing values per column:\n",
      " show_id            0\n",
      "type               0\n",
      "title              0\n",
      "director        2632\n",
      "cast             825\n",
      "country          831\n",
      "date_added        10\n",
      "release_year       0\n",
      "rating             4\n",
      "duration           3\n",
      "listed_in          0\n",
      "description        0\n",
      "dtype: int64\n"
     ]
    }
   ],
   "source": [
    "print(\"Missing values per column:\\n\", df.isnull().sum())"
   ]
  },
  {
   "cell_type": "code",
   "execution_count": 20,
   "id": "898130f7",
   "metadata": {},
   "outputs": [],
   "source": [
    "#convert date_added to data time\n",
    "df[\"date_added\"] = pd.to_datetime(df[\"date_added\"],format=\"mixed\")\n"
   ]
  },
  {
   "cell_type": "code",
   "execution_count": 21,
   "id": "2c7d4509",
   "metadata": {},
   "outputs": [],
   "source": [
    "df[[\"duration_value\",\"duration_unit\"]] = df[\"duration\"].str.extract(r'(\\d+)\\s*(\\w+)')"
   ]
  },
  {
   "cell_type": "code",
   "execution_count": 22,
   "id": "1c79aa19",
   "metadata": {},
   "outputs": [
    {
     "name": "stdout",
     "output_type": "stream",
     "text": [
      "      duration_value duration_unit\n",
      "0               90.0           min\n",
      "1                2.0       Seasons\n",
      "2                1.0        Season\n",
      "3                1.0        Season\n",
      "4                2.0       Seasons\n",
      "...              ...           ...\n",
      "8803             2.0       Seasons\n",
      "8804            88.0           min\n",
      "8805            88.0           min\n",
      "8806           111.0           min\n",
      "8807           111.0           min\n",
      "\n",
      "[8808 rows x 2 columns]\n"
     ]
    }
   ],
   "source": [
    "df[\"duration_value\"] = pd.to_numeric(df[\"duration_value\"])\n",
    "print(df[[\"duration_value\",\"duration_unit\"]])"
   ]
  },
  {
   "cell_type": "code",
   "execution_count": 23,
   "id": "a39e5962",
   "metadata": {},
   "outputs": [
    {
     "name": "stdout",
     "output_type": "stream",
     "text": [
      "Duplicate rows before: 1\n"
     ]
    }
   ],
   "source": [
    "print(\"Duplicate rows before:\", df.duplicated().sum())"
   ]
  },
  {
   "cell_type": "code",
   "execution_count": 24,
   "id": "9d692e0d",
   "metadata": {},
   "outputs": [],
   "source": [
    "df = df.drop_duplicates()\n",
    "df = df.drop(columns=['description'])\n"
   ]
  },
  {
   "cell_type": "code",
   "execution_count": 25,
   "id": "016b7fa9",
   "metadata": {},
   "outputs": [
    {
     "name": "stdout",
     "output_type": "stream",
     "text": [
      "year\n",
      "2008       2\n",
      "2009       2\n",
      "2010       1\n",
      "2011      13\n",
      "2012       3\n",
      "2013      11\n",
      "2014      24\n",
      "2015      82\n",
      "2016     429\n",
      "2017    1188\n",
      "2018    1649\n",
      "2019    2016\n",
      "2020    1879\n",
      "2021    1498\n",
      "Name: count, dtype: Int64\n"
     ]
    }
   ],
   "source": [
    "# Which year had the most content added? 2008-2021\n",
    "df[\"year\"] = df[\"date_added\"].dt.year.astype(\"Int64\")\n",
    "# here the type of the year is resolved and the datatype was converted to integer as it was showing me floating point \n",
    "# .dt.year accessthe date and gives me the year of the all the dates in  a seperate column \"year\"\n",
    "content_per_year = df[\"year\"].value_counts().sort_index()\n",
    "print(content_per_year)"
   ]
  },
  {
   "cell_type": "code",
   "execution_count": 26,
   "id": "4610b7cc",
   "metadata": {},
   "outputs": [
    {
     "data": {
      "image/png": "[encoded data removed]",
      "text/plain": [
       "<Figure size 1000x1000 with 1 Axes>"
      ]
     },
     "metadata": {},
     "output_type": "display_data"
    }
   ],
   "source": [
    "import matplotlib.pyplot as plt\n",
    "content_per_year.plot(kind='barh',figsize=(10,10),color= 'blue')\n",
    "plt.title(\"Number of Netflix Titles Added Per Year\") #title of the plot is defined here\n",
    "plt.xlabel(\"Year\") #x axis is represented and what is to be called \n",
    "plt.ylabel(\"No of releases\")#y axis is represented and what is to be called \n",
    "plt.grid(axis=\"both\")\n",
    "plt.show()"
   ]
  },
  {
   "cell_type": "code",
   "execution_count": null,
   "id": "51346cee",
   "metadata": {},
   "outputs": [],
   "source": []
  },
  {
   "cell_type": "code",
   "execution_count": null,
   "id": "ee80d9c5",
   "metadata": {},
   "outputs": [],
   "source": []
  },
  {
   "cell_type": "code",
   "execution_count": null,
   "id": "beb87738",
   "metadata": {},
   "outputs": [],
   "source": []
  },
  {
   "cell_type": "code",
   "execution_count": null,
   "id": "2cf655df",
   "metadata": {},
   "outputs": [],
   "source": []
  }
 ],
 "metadata": {
  "kernelspec": {
   "display_name": "Python 3",
   "language": "python",
   "name": "python3"
  },
  "language_info": {
   "codemirror_mode": {
    "name": "ipython",
    "version": 3
   },
   "file_extension": ".py",
   "mimetype": "text/x-python",
   "name": "python",
   "nbconvert_exporter": "python",
   "pygments_lexer": "ipython3",
   "version": "3.12.0"
  }
 },
 "nbformat": 4,
 "nbformat_minor": 5
}
